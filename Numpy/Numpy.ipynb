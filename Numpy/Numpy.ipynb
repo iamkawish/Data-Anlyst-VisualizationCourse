{
 "cells": [
  {
   "cell_type": "code",
   "execution_count": 3,
   "id": "6de66d3b",
   "metadata": {},
   "outputs": [
    {
     "name": "stdout",
     "output_type": "stream",
     "text": [
      "Requirement already satisfied: numpy in c:\\users\\iamka\\anaconda3\\lib\\site-packages (1.23.5)\n"
     ]
    }
   ],
   "source": [
    "!pip install numpy"
   ]
  },
  {
   "cell_type": "code",
   "execution_count": 4,
   "id": "cc07fad2",
   "metadata": {},
   "outputs": [],
   "source": [
    "import numpy as np"
   ]
  },
  {
   "cell_type": "code",
   "execution_count": 5,
   "id": "e5aa1e30",
   "metadata": {},
   "outputs": [],
   "source": [
    "x=np.array([1,2,3,4,5])"
   ]
  },
  {
   "cell_type": "code",
   "execution_count": 6,
   "id": "81687f78",
   "metadata": {},
   "outputs": [
    {
     "name": "stdout",
     "output_type": "stream",
     "text": [
      "[1 2 3 4 5]\n"
     ]
    }
   ],
   "source": [
    "print(x)"
   ]
  },
  {
   "cell_type": "code",
   "execution_count": 7,
   "id": "544d5155",
   "metadata": {},
   "outputs": [],
   "source": [
    "y=np.arange(10)"
   ]
  },
  {
   "cell_type": "code",
   "execution_count": 8,
   "id": "8cd5d46b",
   "metadata": {
    "scrolled": true
   },
   "outputs": [
    {
     "data": {
      "text/plain": [
       "array([0, 1, 2, 3, 4, 5, 6, 7, 8, 9])"
      ]
     },
     "execution_count": 8,
     "metadata": {},
     "output_type": "execute_result"
    }
   ],
   "source": [
    "y"
   ]
  },
  {
   "cell_type": "code",
   "execution_count": 9,
   "id": "9a76b455",
   "metadata": {},
   "outputs": [
    {
     "name": "stdout",
     "output_type": "stream",
     "text": [
      "<class 'list'>\n"
     ]
    }
   ],
   "source": [
    "alist=[1,2,3,4,4]\n",
    "print(type(alist))"
   ]
  },
  {
   "cell_type": "markdown",
   "id": "be437226",
   "metadata": {},
   "source": [
    "### Compare Runtime Excution List vs Array"
   ]
  },
  {
   "cell_type": "code",
   "execution_count": 10,
   "id": "cc741411",
   "metadata": {},
   "outputs": [
    {
     "name": "stdout",
     "output_type": "stream",
     "text": [
      "9.94 µs ± 572 ns per loop (mean ± std. dev. of 7 runs, 100000 loops each)\n"
     ]
    }
   ],
   "source": [
    "%timeit [j**4 for j in range(1,20)]"
   ]
  },
  {
   "cell_type": "code",
   "execution_count": 11,
   "id": "d2648708",
   "metadata": {},
   "outputs": [
    {
     "name": "stdout",
     "output_type": "stream",
     "text": [
      "9.46 µs ± 1.52 µs per loop (mean ± std. dev. of 7 runs, 100000 loops each)\n"
     ]
    }
   ],
   "source": [
    "%timeit [np.arange(1,20)**4]"
   ]
  },
  {
   "cell_type": "markdown",
   "id": "e5da4237",
   "metadata": {},
   "source": [
    "### Creating Numpy Array"
   ]
  },
  {
   "cell_type": "code",
   "execution_count": 12,
   "id": "02b851bb",
   "metadata": {},
   "outputs": [
    {
     "name": "stdout",
     "output_type": "stream",
     "text": [
      "[1 2 3]\n"
     ]
    }
   ],
   "source": [
    "Array=np.array([1,2,3])\n",
    "print(Array)"
   ]
  },
  {
   "cell_type": "code",
   "execution_count": 13,
   "id": "890be2c7",
   "metadata": {},
   "outputs": [
    {
     "name": "stdout",
     "output_type": "stream",
     "text": [
      "Enter Number: 12\n",
      "Enter Number: 34\n",
      "Enter Number: 5\n",
      "Enter Number: 6\n",
      "[12, 34, 5, 6]\n"
     ]
    }
   ],
   "source": [
    "l=[]\n",
    "for i in range(1,5):\n",
    "    int_1=int(input(\"Enter Number: \"))\n",
    "    l.append(int_1)\n",
    "print(l)"
   ]
  },
  {
   "cell_type": "markdown",
   "id": "6dc80100",
   "metadata": {},
   "source": [
    "## Dimension in Array"
   ]
  },
  {
   "cell_type": "markdown",
   "id": "a330a8a2",
   "metadata": {},
   "source": [
    "- 1-Dimension Array\n",
    "- 2-Dimension Array\n",
    "- 3-Dimension Array\n",
    "- n-Dimension Array"
   ]
  },
  {
   "cell_type": "code",
   "execution_count": 18,
   "id": "6bc8e014",
   "metadata": {},
   "outputs": [
    {
     "name": "stdout",
     "output_type": "stream",
     "text": [
      "[1 2 3]\n",
      "Type of Array is : 1\n"
     ]
    }
   ],
   "source": [
    "# One Dimension Array\n",
    "arr1=np.array([1,2,3])\n",
    "print(arr1)\n",
    "print(\"Type of Array is :\",arr1.ndim)"
   ]
  },
  {
   "cell_type": "code",
   "execution_count": 19,
   "id": "689083e4",
   "metadata": {},
   "outputs": [
    {
     "name": "stdout",
     "output_type": "stream",
     "text": [
      "[[1 2 3]\n",
      " [4 5 6]]\n",
      "Type of Array is : 2\n"
     ]
    }
   ],
   "source": [
    "# Two Dimension Array\n",
    "arr2=np.array([[1,2,3],[4,5,6]])\n",
    "print(arr2)\n",
    "print(\"Type of Array is :\",arr2.ndim)"
   ]
  },
  {
   "cell_type": "code",
   "execution_count": 20,
   "id": "d5fdc40a",
   "metadata": {},
   "outputs": [
    {
     "name": "stdout",
     "output_type": "stream",
     "text": [
      "[[[1 2 3]\n",
      "  [4 5 6]]]\n",
      "Type of Array is : 3\n"
     ]
    }
   ],
   "source": [
    "# Three Dimension Array\n",
    "arr3=np.array([[[1,2,3],[4,5,6]]])\n",
    "print(arr3)\n",
    "print(\"Type of Array is :\",arr3.ndim)"
   ]
  },
  {
   "cell_type": "code",
   "execution_count": 21,
   "id": "0829ec8f",
   "metadata": {},
   "outputs": [
    {
     "ename": "IndentationError",
     "evalue": "unexpected indent (3185665849.py, line 2)",
     "output_type": "error",
     "traceback": [
      "\u001b[1;36m  File \u001b[1;32m\"C:\\Users\\iamka\\AppData\\Local\\Temp\\ipykernel_9440\\3185665849.py\"\u001b[1;36m, line \u001b[1;32m2\u001b[0m\n\u001b[1;33m    arr10=np.array([1,2,3,4] ,ndim=12)\u001b[0m\n\u001b[1;37m    ^\u001b[0m\n\u001b[1;31mIndentationError\u001b[0m\u001b[1;31m:\u001b[0m unexpected indent\n"
     ]
    }
   ],
   "source": [
    "# Ten Dimension Array\n",
    " arr10=np.array([1,2,3,4] ,ndim=12)\n",
    "print(arr10)\n",
    "print(\"Type of Array is :\",arr10.ndim)"
   ]
  },
  {
   "cell_type": "markdown",
   "id": "81b66974",
   "metadata": {},
   "source": [
    "### Special Numpy Array"
   ]
  },
  {
   "cell_type": "code",
   "execution_count": null,
   "id": "475211e0",
   "metadata": {},
   "outputs": [],
   "source": [
    "# Zero Array\n",
    "ar_zero=np.zeros(10)\n",
    "print(ar_zero)\n",
    "ar_zero2=np.zeros((2,4))\n",
    "print(ar_zero2)"
   ]
  },
  {
   "cell_type": "code",
   "execution_count": null,
   "id": "e416cad4",
   "metadata": {},
   "outputs": [],
   "source": [
    "# One Array\n",
    "ar_one=np.ones(10)\n",
    "print(ar_one)\n",
    "ar_one2=np.ones((2,4))\n",
    "print(ar_one2)"
   ]
  },
  {
   "cell_type": "code",
   "execution_count": 22,
   "id": "610c7f1a",
   "metadata": {},
   "outputs": [
    {
     "name": "stdout",
     "output_type": "stream",
     "text": [
      "[6.23042070e-307 4.67296746e-307 1.69121096e-306 1.29060871e-306\n",
      " 1.89146896e-307 7.56571288e-307 3.11525958e-307 1.24610723e-306\n",
      " 1.29061142e-306 5.53353523e-322]\n"
     ]
    }
   ],
   "source": [
    "# Empty Array\n",
    "arr_emp=np.empty(10)\n",
    "print(arr_emp)"
   ]
  },
  {
   "cell_type": "code",
   "execution_count": 23,
   "id": "58ea5bf0",
   "metadata": {},
   "outputs": [
    {
     "name": "stdout",
     "output_type": "stream",
     "text": [
      "[[ 1  2  3  4  5]\n",
      " [ 6  7  8  9 10]]\n"
     ]
    }
   ],
   "source": [
    "# Range Array\n",
    "arr_ran=np.arange(1,11).reshape(2,5)\n",
    "print(arr_ran)"
   ]
  },
  {
   "cell_type": "code",
   "execution_count": 24,
   "id": "ca3c4fd8",
   "metadata": {},
   "outputs": [
    {
     "name": "stdout",
     "output_type": "stream",
     "text": [
      "[[1. 0. 0. 0.]\n",
      " [0. 1. 0. 0.]\n",
      " [0. 0. 1. 0.]]\n"
     ]
    }
   ],
   "source": [
    "# Diagonal Array\n",
    "arr_dig=np.eye(3,4)\n",
    "print(arr_dig)"
   ]
  },
  {
   "cell_type": "code",
   "execution_count": 25,
   "id": "dd4d4d18",
   "metadata": {},
   "outputs": [
    {
     "name": "stdout",
     "output_type": "stream",
     "text": [
      "[ 1.          3.71428571  6.42857143  9.14285714 11.85714286 14.57142857\n",
      " 17.28571429 20.        ]\n"
     ]
    }
   ],
   "source": [
    "# Linespace Array\n",
    "lin_arr=np.linspace(1,20,num=8)\n",
    "print(lin_arr)"
   ]
  },
  {
   "cell_type": "markdown",
   "id": "cd9cf071",
   "metadata": {},
   "source": [
    "### Numpy Random Number"
   ]
  },
  {
   "cell_type": "raw",
   "id": "d77e4db0",
   "metadata": {},
   "source": [
    "Types of Random\n",
    "- rand()\n",
    "- randn()\n",
    "- randf()\n",
    "- randint()"
   ]
  },
  {
   "cell_type": "code",
   "execution_count": 26,
   "id": "5ad04436",
   "metadata": {},
   "outputs": [
    {
     "name": "stdout",
     "output_type": "stream",
     "text": [
      "[0.87834485 0.96036137 0.06783498 0.32171248]\n"
     ]
    }
   ],
   "source": [
    "# Randn Function\n",
    "var=np.random.rand(4)\n",
    "print(var)"
   ]
  },
  {
   "cell_type": "code",
   "execution_count": 27,
   "id": "511765d7",
   "metadata": {},
   "outputs": [
    {
     "name": "stdout",
     "output_type": "stream",
     "text": [
      "[[0.89024198 0.22577287 0.3446152  0.98136788 0.6283512 ]\n",
      " [0.44312265 0.42565482 0.38292755 0.74277772 0.70471348]]\n"
     ]
    }
   ],
   "source": [
    "var1=np.random.rand(2,5)\n",
    "print(var1)"
   ]
  },
  {
   "cell_type": "code",
   "execution_count": 28,
   "id": "dd06f051",
   "metadata": {},
   "outputs": [
    {
     "name": "stdout",
     "output_type": "stream",
     "text": [
      "[-0.66328781  0.58437165  1.33588827  0.04493799 -0.84308466]\n"
     ]
    }
   ],
   "source": [
    "# Randn function\n",
    "jar=np.random.randn(5)\n",
    "print(jar)"
   ]
  },
  {
   "cell_type": "code",
   "execution_count": 29,
   "id": "b0ea5c61",
   "metadata": {},
   "outputs": [
    {
     "name": "stdout",
     "output_type": "stream",
     "text": [
      "[[ 0.26113204 -0.77670824  0.332158   -0.00404194  0.45502835]\n",
      " [-0.86984169  0.53462753 -0.27286873 -0.27225769  0.64545642]\n",
      " [-0.80389127 -0.09507209  1.06770495 -0.51135225  0.69457924]]\n"
     ]
    }
   ],
   "source": [
    "jar1=np.random.randn(3,5)\n",
    "print(jar1)"
   ]
  },
  {
   "cell_type": "code",
   "execution_count": 30,
   "id": "eab206f8",
   "metadata": {},
   "outputs": [
    {
     "name": "stdout",
     "output_type": "stream",
     "text": [
      "[0.16311505 0.17330994 0.29018939 0.35531007 0.77868442 0.19806334]\n"
     ]
    }
   ],
   "source": [
    "# Randf function\n",
    "bar=np.random.ranf(6)\n",
    "print(bar)"
   ]
  },
  {
   "cell_type": "code",
   "execution_count": 31,
   "id": "bf223248",
   "metadata": {},
   "outputs": [
    {
     "name": "stdout",
     "output_type": "stream",
     "text": [
      "[[0.76864457 0.6638815  0.67883579]\n",
      " [0.68464483 0.09450336 0.08757991]]\n"
     ]
    }
   ],
   "source": [
    "bar1=np.random.ranf((2,3))\n",
    "print(bar1)"
   ]
  },
  {
   "cell_type": "code",
   "execution_count": 32,
   "id": "ef06fb49",
   "metadata": {},
   "outputs": [
    {
     "name": "stdout",
     "output_type": "stream",
     "text": [
      "[17 18 15 17 13 17 12 18 14 13 16 15 12 13 17 14 18 17 17 16]\n"
     ]
    }
   ],
   "source": [
    "# Randint function\n",
    "car=np.random.randint(12,20,20)\n",
    "print(car)"
   ]
  },
  {
   "cell_type": "code",
   "execution_count": 33,
   "id": "fcfcad04",
   "metadata": {},
   "outputs": [
    {
     "name": "stdout",
     "output_type": "stream",
     "text": [
      "[[17 12 18 16 12 16 18 19 12 12]\n",
      " [12 13 19 14 14 13 18 14 18 19]]\n"
     ]
    }
   ],
   "source": [
    "car1=np.random.randint(12,20,20).reshape(2,10)\n",
    "print(car1)"
   ]
  },
  {
   "cell_type": "markdown",
   "id": "10733cf5",
   "metadata": {},
   "source": [
    "### Data Type"
   ]
  },
  {
   "cell_type": "code",
   "execution_count": 34,
   "id": "a1f52956",
   "metadata": {},
   "outputs": [
    {
     "name": "stdout",
     "output_type": "stream",
     "text": [
      "[0.87834485 0.96036137 0.06783498 0.32171248] Data type: float64\n"
     ]
    }
   ],
   "source": [
    "# var=np.array([1,2,4,5])\n",
    "print(var,\"Data type:\",var.dtype)"
   ]
  },
  {
   "cell_type": "code",
   "execution_count": 35,
   "id": "4026eeca",
   "metadata": {},
   "outputs": [
    {
     "name": "stdout",
     "output_type": "stream",
     "text": [
      "[1.1 2.  4.  5. ] Data type: float64\n"
     ]
    }
   ],
   "source": [
    "var=np.array([1.1,2,4,5])\n",
    "print(var,\"Data type:\",var.dtype)"
   ]
  },
  {
   "cell_type": "code",
   "execution_count": 36,
   "id": "64070a13",
   "metadata": {},
   "outputs": [
    {
     "name": "stdout",
     "output_type": "stream",
     "text": [
      "['A' 'B' 'C'] Data type: <U1\n"
     ]
    }
   ],
   "source": [
    "var=np.array(['A','B','C'])\n",
    "print(var,\"Data type:\",var.dtype)"
   ]
  },
  {
   "cell_type": "code",
   "execution_count": 37,
   "id": "486ca853",
   "metadata": {},
   "outputs": [
    {
     "name": "stdout",
     "output_type": "stream",
     "text": [
      "['A' 'B' 'C' '1' '2' '3'] Data type: <U11\n"
     ]
    }
   ],
   "source": [
    "var=np.array(['A','B','C',1,2,3])\n",
    "print(var,\"Data type:\",var.dtype)"
   ]
  },
  {
   "cell_type": "code",
   "execution_count": 38,
   "id": "89cfd6ca",
   "metadata": {},
   "outputs": [
    {
     "name": "stdout",
     "output_type": "stream",
     "text": [
      "[1 2 3 4] Data type: int32\n"
     ]
    }
   ],
   "source": [
    "x=np.array([1,2,3,4],dtype=np.int32)\n",
    "print(x,\"Data type:\",x.dtype)"
   ]
  },
  {
   "cell_type": "markdown",
   "id": "302ddbae",
   "metadata": {},
   "source": [
    "## Arithematic Operation"
   ]
  },
  {
   "cell_type": "code",
   "execution_count": 39,
   "id": "ac2cc92a",
   "metadata": {},
   "outputs": [
    {
     "name": "stdout",
     "output_type": "stream",
     "text": [
      "[ 3  4 46]\n",
      "[24 58 78]\n"
     ]
    }
   ],
   "source": [
    "# Addition\n",
    "var=np.array([1,2,44])\n",
    "var1=var+2\n",
    "print(var1)\n",
    "var2=np.array([23,56,34])\n",
    "print(np.add(var,var2))"
   ]
  },
  {
   "cell_type": "code",
   "execution_count": 40,
   "id": "7b825f27",
   "metadata": {},
   "outputs": [
    {
     "name": "stdout",
     "output_type": "stream",
     "text": [
      "[-1  0 42]\n",
      "[-22 -54  10]\n"
     ]
    }
   ],
   "source": [
    "# Subtraction\n",
    "var=np.array([1,2,44])\n",
    "var1=var-2\n",
    "print(var1)\n",
    "var2=np.array([23,56,34])\n",
    "print(np.subtract(var,var2))"
   ]
  },
  {
   "cell_type": "code",
   "execution_count": 41,
   "id": "0fc4de08",
   "metadata": {},
   "outputs": [
    {
     "name": "stdout",
     "output_type": "stream",
     "text": [
      "[ 2  4 88]\n",
      "[  23  112 1496]\n"
     ]
    }
   ],
   "source": [
    "# Multiplication\n",
    "var=np.array([1,2,44])\n",
    "var1=var*2\n",
    "print(var1)\n",
    "var2=np.array([23,56,34])\n",
    "print(np.multiply(var,var2))"
   ]
  },
  {
   "cell_type": "code",
   "execution_count": 42,
   "id": "2e8d36d0",
   "metadata": {},
   "outputs": [
    {
     "name": "stdout",
     "output_type": "stream",
     "text": [
      "[ 1  2 10]\n"
     ]
    }
   ],
   "source": [
    "# Modulus\n",
    "var=np.array([1,2,44])\n",
    "\n",
    "var2=np.array([23,56,34])\n",
    "print(np.mod(var,var2))"
   ]
  },
  {
   "cell_type": "markdown",
   "id": "cf084e9f",
   "metadata": {},
   "source": [
    "### Arithematic Function"
   ]
  },
  {
   "cell_type": "code",
   "execution_count": 43,
   "id": "f709db16",
   "metadata": {},
   "outputs": [
    {
     "name": "stdout",
     "output_type": "stream",
     "text": [
      "The Maximum Value is:  7\n",
      "The Minimum Value is:  1\n",
      "The AverageValue is:  3.8\n",
      "The Maximum Value is:  7\n"
     ]
    }
   ],
   "source": [
    "var=np.array([1,2,3,6,7])\n",
    "print(\"The Maximum Value is: \",np.max(var))\n",
    "print(\"The Minimum Value is: \",np.min(var))\n",
    "print(\"The AverageValue is: \",np.average(var))\n",
    "print(\"The Maximum Value is: \",np.max(var))\n",
    "\n"
   ]
  },
  {
   "cell_type": "markdown",
   "id": "8a830a73",
   "metadata": {},
   "source": [
    "### Shape"
   ]
  },
  {
   "cell_type": "code",
   "execution_count": 44,
   "id": "ebea4c45",
   "metadata": {},
   "outputs": [
    {
     "name": "stdout",
     "output_type": "stream",
     "text": [
      "[[1 2 3 4]\n",
      " [5 6 7 8]]\n",
      "2\n",
      "(2, 4)\n"
     ]
    }
   ],
   "source": [
    "var=np.array([[1,2,3,4],[5,6,7,8]])\n",
    "print(var)\n",
    "print(var.ndim)\n",
    "print(var.shape)"
   ]
  },
  {
   "cell_type": "markdown",
   "id": "8cde478f",
   "metadata": {},
   "source": [
    "### Reshape"
   ]
  },
  {
   "cell_type": "code",
   "execution_count": 45,
   "id": "05405ad3",
   "metadata": {},
   "outputs": [
    {
     "name": "stdout",
     "output_type": "stream",
     "text": [
      "[1 2 3 4 5 7 8 9]\n",
      "1\n",
      "[[1 2 3 4]\n",
      " [5 7 8 9]]\n",
      "2\n"
     ]
    }
   ],
   "source": [
    "var=np.array([1,2,3,4,5,7,8,9])\n",
    "print(var)\n",
    "print(var.ndim)\n",
    "\n",
    "var1=var.reshape(2,4)\n",
    "print(var1)\n",
    "print(var1.ndim)"
   ]
  },
  {
   "cell_type": "code",
   "execution_count": 46,
   "id": "cf47b3ea",
   "metadata": {},
   "outputs": [
    {
     "name": "stdout",
     "output_type": "stream",
     "text": [
      "[[[ 1  2]\n",
      "  [ 3  4]\n",
      "  [ 5  6]]\n",
      "\n",
      " [[ 7  8]\n",
      "  [ 9 10]\n",
      "  [11 12]]]\n"
     ]
    },
    {
     "ename": "NameError",
     "evalue": "name 'var3' is not defined",
     "output_type": "error",
     "traceback": [
      "\u001b[1;31m---------------------------------------------------------------------------\u001b[0m",
      "\u001b[1;31mNameError\u001b[0m                                 Traceback (most recent call last)",
      "\u001b[1;32m~\\AppData\\Local\\Temp\\ipykernel_9440\\221649787.py\u001b[0m in \u001b[0;36m<module>\u001b[1;34m\u001b[0m\n\u001b[0;32m      2\u001b[0m \u001b[0mprint\u001b[0m\u001b[1;33m(\u001b[0m\u001b[0mvar\u001b[0m\u001b[1;33m.\u001b[0m\u001b[0mreshape\u001b[0m\u001b[1;33m(\u001b[0m\u001b[1;36m2\u001b[0m\u001b[1;33m,\u001b[0m\u001b[1;36m3\u001b[0m\u001b[1;33m,\u001b[0m\u001b[1;36m2\u001b[0m\u001b[1;33m)\u001b[0m\u001b[1;33m)\u001b[0m\u001b[1;33m\u001b[0m\u001b[1;33m\u001b[0m\u001b[0m\n\u001b[0;32m      3\u001b[0m \u001b[1;33m\u001b[0m\u001b[0m\n\u001b[1;32m----> 4\u001b[1;33m \u001b[0mprint\u001b[0m\u001b[1;33m(\u001b[0m\u001b[0mvar3\u001b[0m\u001b[1;33m.\u001b[0m\u001b[0mndim\u001b[0m\u001b[1;33m)\u001b[0m\u001b[1;33m\u001b[0m\u001b[1;33m\u001b[0m\u001b[0m\n\u001b[0m",
      "\u001b[1;31mNameError\u001b[0m: name 'var3' is not defined"
     ]
    }
   ],
   "source": [
    "var=np.array([1,2,3,4,5,6,7,8,9,10,11,12])\n",
    "print(var.reshape(2,3,2))\n",
    "\n",
    "print(var3.ndim)"
   ]
  },
  {
   "cell_type": "code",
   "execution_count": null,
   "id": "952d84b4",
   "metadata": {},
   "outputs": [],
   "source": [
    "var3=var.reshape(3,2,2)\n",
    "print(var3)\n",
    "print(var3.ndim)"
   ]
  },
  {
   "cell_type": "markdown",
   "id": "f8ccc458",
   "metadata": {},
   "source": [
    "### Indexing and Slicing in Numpy Array"
   ]
  },
  {
   "cell_type": "code",
   "execution_count": 47,
   "id": "41b7503d",
   "metadata": {},
   "outputs": [
    {
     "name": "stdout",
     "output_type": "stream",
     "text": [
      "[4 1]\n"
     ]
    }
   ],
   "source": [
    "var=np.array([1,2,3,4])\n",
    "print(var[-1::-3])\n"
   ]
  },
  {
   "cell_type": "code",
   "execution_count": 48,
   "id": "5ff6aeb7",
   "metadata": {},
   "outputs": [
    {
     "name": "stdout",
     "output_type": "stream",
     "text": [
      "[2 4]\n"
     ]
    }
   ],
   "source": [
    "var=np.array([1,2,3,4,5,6,7,8])\n",
    "print(var[1:4:2])"
   ]
  },
  {
   "cell_type": "markdown",
   "id": "354ee913",
   "metadata": {},
   "source": [
    "### Iteration"
   ]
  },
  {
   "cell_type": "code",
   "execution_count": 49,
   "id": "f4cf43ae",
   "metadata": {},
   "outputs": [
    {
     "name": "stdout",
     "output_type": "stream",
     "text": [
      "[1 2 3 4 5 6 7 8]\n",
      "1\n",
      "2\n",
      "3\n",
      "4\n",
      "5\n",
      "6\n",
      "7\n",
      "8\n"
     ]
    }
   ],
   "source": [
    "var=np.array([1,2,3,4,5,6,7,8])\n",
    "print(var)\n",
    "for i in var:\n",
    "    print(i)"
   ]
  },
  {
   "cell_type": "code",
   "execution_count": 50,
   "id": "d4914323",
   "metadata": {},
   "outputs": [
    {
     "name": "stdout",
     "output_type": "stream",
     "text": [
      "[[1 2 3]\n",
      " [4 5 6]]\n",
      "[1 2 3]\n",
      "[4 5 6]\n"
     ]
    }
   ],
   "source": [
    "# One Dimension Array\n",
    "var2d=np.array([[1,2,3],[4,5,6]])\n",
    "print(var2d)\n",
    "for i in var2d:\n",
    "    print(i)"
   ]
  },
  {
   "cell_type": "code",
   "execution_count": 51,
   "id": "f6c25d55",
   "metadata": {},
   "outputs": [
    {
     "name": "stdout",
     "output_type": "stream",
     "text": [
      "[[1 2 3]\n",
      " [4 5 6]]\n",
      "1\n",
      "2\n",
      "3\n",
      "4\n",
      "5\n",
      "6\n"
     ]
    }
   ],
   "source": [
    "# Two dimension Array\n",
    "var2d=np.array([[1,2,3],[4,5,6]])\n",
    "print(var2d)\n",
    "for i in var2d:\n",
    "    for j in i:\n",
    "        print(j)\n",
    "    "
   ]
  },
  {
   "cell_type": "code",
   "execution_count": 52,
   "id": "86d48cc3",
   "metadata": {},
   "outputs": [
    {
     "name": "stdout",
     "output_type": "stream",
     "text": [
      "[[[1 2 3]\n",
      "  [4 5 6]\n",
      "  [7 8 9]]]\n",
      "(1, 3, 3)\n",
      "3\n"
     ]
    }
   ],
   "source": [
    "# Three Dimension Array\n",
    "var3d=np.array([[[1,2,3],[4,5,6],[7,8,9]]])\n",
    "print(var3d)\n",
    "print(var3d.shape)\n",
    "print(var3d.ndim)"
   ]
  },
  {
   "cell_type": "code",
   "execution_count": 53,
   "id": "b1e952c5",
   "metadata": {},
   "outputs": [
    {
     "name": "stdout",
     "output_type": "stream",
     "text": [
      "1\n",
      "2\n",
      "3\n",
      "4\n",
      "5\n",
      "6\n",
      "7\n",
      "8\n",
      "9\n"
     ]
    }
   ],
   "source": [
    "var3d=np.array([[[1,2,3],[4,5,6],[7,8,9]]])\n",
    "for i in var3d:\n",
    "    for j in i:\n",
    "        for k in j:\n",
    "            print(k)"
   ]
  },
  {
   "cell_type": "markdown",
   "id": "cba045a0",
   "metadata": {},
   "source": [
    "### Search"
   ]
  },
  {
   "cell_type": "code",
   "execution_count": 54,
   "id": "2bdf9a49",
   "metadata": {},
   "outputs": [
    {
     "name": "stdout",
     "output_type": "stream",
     "text": [
      "(array([ 8, 10, 14], dtype=int64),)\n"
     ]
    }
   ],
   "source": [
    "var=np.array([1,2,4,5,7,84,5,3,6,5,6,21,5,3,6,7])\n",
    "x=np.where(var==6)\n",
    "print(x)"
   ]
  },
  {
   "cell_type": "markdown",
   "id": "865a2fcf",
   "metadata": {},
   "source": [
    "### Numpy Array Function"
   ]
  },
  {
   "cell_type": "code",
   "execution_count": 55,
   "id": "6a451457",
   "metadata": {},
   "outputs": [
    {
     "name": "stdout",
     "output_type": "stream",
     "text": [
      "[ 2  9  7  2 34  7  1 56  8]\n"
     ]
    }
   ],
   "source": [
    "# Shuffle Function\n",
    "var=np.array([1,2,2,34,56,7,7,8,9])\n",
    "np.random.shuffle(var)\n",
    "print(var)"
   ]
  },
  {
   "cell_type": "code",
   "execution_count": 56,
   "id": "0eb38010",
   "metadata": {},
   "outputs": [
    {
     "name": "stdout",
     "output_type": "stream",
     "text": [
      "[ 1  2  7  8  9 34 56]\n"
     ]
    }
   ],
   "source": [
    "# Unique Function\n",
    "var1=np.array([1,2,2,34,34,56,7,8,9])\n",
    "x=np.unique(var1)\n",
    "print(x)"
   ]
  },
  {
   "cell_type": "markdown",
   "id": "ff028ec1",
   "metadata": {},
   "source": [
    "### Numpy Matrix"
   ]
  },
  {
   "cell_type": "code",
   "execution_count": 57,
   "id": "48016ccc",
   "metadata": {},
   "outputs": [
    {
     "name": "stdout",
     "output_type": "stream",
     "text": [
      "[[1 2 3]\n",
      " [5 7 8]]\n",
      "<class 'numpy.ndarray'>\n",
      "2\n"
     ]
    }
   ],
   "source": [
    "arr=np.array([[1,2,3],[5,7,8]])\n",
    "print(arr)\n",
    "print(type(arr))\n",
    "print(arr.ndim)"
   ]
  },
  {
   "cell_type": "code",
   "execution_count": 58,
   "id": "529b0ec3",
   "metadata": {},
   "outputs": [
    {
     "name": "stdout",
     "output_type": "stream",
     "text": [
      "[[1 6 0]\n",
      " [1 9 2]]\n",
      "<class 'numpy.matrix'>\n",
      "2\n"
     ]
    }
   ],
   "source": [
    "arr=np.matrix([[1,6,0],[1,9,2]])\n",
    "print(arr)\n",
    "print(type(arr))\n",
    "print(arr.ndim)"
   ]
  },
  {
   "cell_type": "code",
   "execution_count": 60,
   "id": "3d455c7e",
   "metadata": {},
   "outputs": [
    {
     "name": "stdout",
     "output_type": "stream",
     "text": [
      "[[ 6 12  7]\n",
      " [ 7 18  3]]\n"
     ]
    }
   ],
   "source": [
    "ma=np.matrix([[1,6,0],[1,9,2]])\n",
    "ma1=np.matrix([[5,6,7],[6,9,1]])\n",
    "print(ma+ma1)           # + - * / "
   ]
  },
  {
   "cell_type": "code",
   "execution_count": 68,
   "id": "f5f874c7",
   "metadata": {},
   "outputs": [
    {
     "name": "stdout",
     "output_type": "stream",
     "text": [
      "[[1 2 5]\n",
      " [7 8 9]]\n",
      "The Transpose of the Matrix is:  [[1 7]\n",
      " [2 8]\n",
      " [5 9]]\n"
     ]
    }
   ],
   "source": [
    "mat=np.matrix([[1,2,5],[7,8,9]])\n",
    "print(mat)\n",
    "print(\"The Transpose of the Matrix is: \",np.transpose(mat))"
   ]
  },
  {
   "cell_type": "code",
   "execution_count": 70,
   "id": "570a0deb",
   "metadata": {},
   "outputs": [
    {
     "name": "stdout",
     "output_type": "stream",
     "text": [
      "[[-2.45454545 -0.09090909  1.63636364]\n",
      " [ 1.90909091  0.18181818 -1.27272727]\n",
      " [ 0.21212121 -0.09090909 -0.03030303]]\n"
     ]
    }
   ],
   "source": [
    "mat3=np.matrix([[4,5,6],[7,9,0],[7,8,9]])\n",
    "print(np.linalg.inv(mat3))"
   ]
  },
  {
   "cell_type": "code",
   "execution_count": null,
   "id": "509b0283",
   "metadata": {},
   "outputs": [],
   "source": []
  },
  {
   "cell_type": "code",
   "execution_count": null,
   "id": "05fd5452",
   "metadata": {},
   "outputs": [],
   "source": []
  },
  {
   "cell_type": "code",
   "execution_count": null,
   "id": "a12a5c5e",
   "metadata": {},
   "outputs": [],
   "source": []
  },
  {
   "cell_type": "code",
   "execution_count": null,
   "id": "41539233",
   "metadata": {},
   "outputs": [],
   "source": []
  },
  {
   "cell_type": "code",
   "execution_count": null,
   "id": "cc2d7a50",
   "metadata": {},
   "outputs": [],
   "source": []
  },
  {
   "cell_type": "code",
   "execution_count": null,
   "id": "d975009a",
   "metadata": {},
   "outputs": [],
   "source": []
  },
  {
   "cell_type": "code",
   "execution_count": null,
   "id": "1605a309",
   "metadata": {},
   "outputs": [],
   "source": []
  },
  {
   "cell_type": "code",
   "execution_count": null,
   "id": "551128a5",
   "metadata": {},
   "outputs": [],
   "source": []
  }
 ],
 "metadata": {
  "kernelspec": {
   "display_name": "Python 3 (ipykernel)",
   "language": "python",
   "name": "python3"
  },
  "language_info": {
   "codemirror_mode": {
    "name": "ipython",
    "version": 3
   },
   "file_extension": ".py",
   "mimetype": "text/x-python",
   "name": "python",
   "nbconvert_exporter": "python",
   "pygments_lexer": "ipython3",
   "version": "3.9.13"
  }
 },
 "nbformat": 4,
 "nbformat_minor": 5
}
